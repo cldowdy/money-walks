{
 "cells": [
  {
   "cell_type": "markdown",
   "metadata": {},
   "source": [
    "# Money Walks Results Replication"
   ]
  },
  {
   "cell_type": "markdown",
   "metadata": {},
   "source": [
    "### Load Libraries Required"
   ]
  },
  {
   "cell_type": "code",
   "execution_count": 1,
   "metadata": {
    "collapsed": true
   },
   "outputs": [],
   "source": [
    "# Required Libraries \n",
    "import numpy as np \n",
    "import pandas as pd \n",
    "import matplotlib.pyplot as plt\n",
    "import seaborn as sns\n",
    "from sklearn import model_selection\n",
    "from sklearn.ensemble import BaggingClassifier\n",
    "from sklearn.tree import DecisionTreeClassifier\n",
    "from sklearn.model_selection import train_test_split\n",
    "from sklearn.metrics import roc_curve\n",
    "from sklearn.metrics import auc\n",
    "from sklearn.linear_model import LogisticRegression\n",
    "from sklearn.metrics import confusion_matrix\n",
    "import statsmodels.api as sm\n",
    "\n",
    "% matplotlib inline"
   ]
  },
  {
   "cell_type": "code",
   "execution_count": 3,
   "metadata": {
    "scrolled": false
   },
   "outputs": [
    {
     "name": "stdout",
     "output_type": "stream",
     "text": [
      "Original DF Length 9011 \n",
      "\n",
      "  Number of NA Values Per Column\n",
      "-----------------------------------\n",
      "spatial-radial_div     824\n",
      "spatial-radial_loy     824\n",
      "spatial-radial_reg    1137\n",
      "weekly_div               0\n",
      "weekly_loy               0\n",
      "weekly_reg               0\n",
      "hourly_div               0\n",
      "hourly_loy               0\n",
      "hourly_reg               0\n",
      "spatial-grid_div        33\n",
      "spatial-grid_loy        33\n",
      "spatial-grid_reg       409\n",
      "age                      0\n",
      "gender                   0\n",
      "marital                  0\n",
      "education                0\n",
      "working                  0\n",
      "OS1Class                 0\n",
      "DaysClass1               0\n",
      "Trouble                  0\n",
      "dtype: int64\n",
      "\n",
      " Complete Cases length 7855\n"
     ]
    }
   ],
   "source": [
    "df = pd.read_csv(\"../Data/derived_features_validated.csv\")\n",
    "print(\"Original DF Length\",len(df),\"\\n\")\n",
    "\n",
    "count_nan = len(df) - df.count()\n",
    "print(\"  Number of NA Values Per Column\")\n",
    "print(\"-----------------------------------\")\n",
    "print(count_nan)\n",
    "\n",
    "df.dropna(inplace=True)\n",
    "print(\"\\n Complete Cases length\",len(df))"
   ]
  },
  {
   "cell_type": "markdown",
   "metadata": {},
   "source": [
    "## Model Fitting"
   ]
  },
  {
   "cell_type": "code",
   "execution_count": 4,
   "metadata": {
    "collapsed": true
   },
   "outputs": [],
   "source": [
    "modeldf = df[['spatial-radial_div', 'spatial-radial_loy', 'spatial-radial_reg',\n",
    "       'weekly_div', 'weekly_loy', 'weekly_reg', 'hourly_div', 'hourly_loy',\n",
    "       'hourly_reg', 'spatial-grid_div', 'spatial-grid_loy',\n",
    "       'spatial-grid_reg', 'age','OS1Class', 'DaysClass1', 'Trouble']]"
   ]
  },
  {
   "cell_type": "markdown",
   "metadata": {},
   "source": [
    "The `sklearn` module expects that categorical data is cast into dummy a series of dummy variables. Below the command `pd.get_dummies` does this for us."
   ]
  },
  {
   "cell_type": "code",
   "execution_count": 6,
   "metadata": {
    "collapsed": true
   },
   "outputs": [],
   "source": [
    "modeldf = df.join(pd.get_dummies(df['education']))\n",
    "modeldf.columns = ['spatial-radial_div', 'spatial-radial_loy', 'spatial-radial_reg',\n",
    "       'weekly_div', 'weekly_loy', 'weekly_reg', 'hourly_div', 'hourly_loy',\n",
    "       'hourly_reg', 'spatial-grid_div', 'spatial-grid_loy',\n",
    "       'spatial-grid_reg', 'age', 'gender', 'marital', 'education', 'working',\n",
    "       'OS1Class', 'DaysClass1', 'Trouble', 'eduCollege', 'eduHigh School', 'eduMaster',\n",
    "       'eduMiddle School', 'eduPHD', 'eduPrimary School', 'eduUnknown']\n",
    "\n",
    "modeldf = modeldf.join(pd.get_dummies(df['gender']))\n",
    "\n",
    "modeldf = modeldf.join(pd.get_dummies(df['marital']))\n",
    "modeldf.columns = ['spatial-radial_div', 'spatial-radial_loy', 'spatial-radial_reg',\n",
    "       'weekly_div', 'weekly_loy', 'weekly_reg', 'hourly_div', 'hourly_loy',\n",
    "       'hourly_reg', 'spatial-grid_div', 'spatial-grid_loy',\n",
    "       'spatial-grid_reg', 'age', 'gender', 'marital', 'education', 'working',\n",
    "       'OS1Class', 'DaysClass1', 'Trouble', 'eduCollege', 'eduHigh School',\n",
    "       'eduMaster', 'eduMiddle School', 'eduPHD', 'eduPrimary School',\n",
    "       'eduUnknown', 'Female', 'Male', 'maritDivorced', 'maritMarried', 'maritSingle',\n",
    "       'maritUnknown']\n",
    "\n",
    "modeldf = modeldf.join(pd.get_dummies(df['working']))\n",
    "modeldf.columns = ['spatial-radial_div', 'spatial-radial_loy', 'spatial-radial_reg',\n",
    "       'weekly_div', 'weekly_loy', 'weekly_reg', 'hourly_div', 'hourly_loy',\n",
    "       'hourly_reg', 'spatial-grid_div', 'spatial-grid_loy',\n",
    "       'spatial-grid_reg', 'age', 'gender', 'marital', 'education', 'working',\n",
    "       'OS1Class', 'DaysClass1', 'Trouble', 'eduCollege', 'eduHigh School',\n",
    "       'eduMaster', 'eduMiddle School', 'eduPHD', 'eduPrimary School',\n",
    "       'eduUnknown', 'Female', 'Male', 'maritDivorced', 'maritMarried',\n",
    "       'maritSingle', 'maritUnknown', 'workHousewife', 'workNon-Employed',\n",
    "       'workOther Income', 'workPrivate Sector Employee', 'workPublic Servant',\n",
    "       'workRetiree & Non-Employed', 'workRetiree & Private Sector Employee',\n",
    "       'workRetiree & Public Servant', 'workRetiree & Self -Employed',\n",
    "       'workSelf-Employed - Manufacture', 'workSelf-Employed - Retail',\n",
    "       'workSelf-Employed - Service', 'workStudent', 'workUnknown']\n",
    "\n",
    "\n",
    "# Rearange the order of the columns\n",
    "modeldf = modeldf[['spatial-radial_div', 'spatial-radial_loy', 'spatial-radial_reg',\n",
    "       'weekly_div', 'weekly_loy', 'weekly_reg', 'hourly_div', 'hourly_loy',\n",
    "       'hourly_reg', 'spatial-grid_div', 'spatial-grid_loy',\n",
    "       'spatial-grid_reg', 'age', 'OS1Class', 'DaysClass1', 'eduCollege', 'eduHigh School',\n",
    "       'eduMaster', 'eduMiddle School', 'eduPHD', 'eduPrimary School',\n",
    "       'eduUnknown', 'Female', 'Male', 'maritDivorced', 'maritMarried',\n",
    "       'maritSingle', 'maritUnknown', 'workHousewife', 'workNon-Employed',\n",
    "       'workOther Income', 'workPrivate Sector Employee', 'workPublic Servant',\n",
    "       'workRetiree & Non-Employed', 'workRetiree & Private Sector Employee',\n",
    "       'workRetiree & Public Servant', 'workRetiree & Self -Employed',\n",
    "       'workSelf-Employed - Manufacture', 'workSelf-Employed - Retail',\n",
    "       'workSelf-Employed - Service', 'workStudent', 'workUnknown', 'Trouble']]"
   ]
  },
  {
   "cell_type": "markdown",
   "metadata": {},
   "source": [
    "## Overspending"
   ]
  },
  {
   "cell_type": "code",
   "execution_count": 7,
   "metadata": {
    "collapsed": true
   },
   "outputs": [],
   "source": [
    "## Only retain the explanatory variables and overspending response\n",
    "overspending = modeldf[['spatial-radial_div', 'spatial-radial_loy', 'spatial-radial_reg',\n",
    "       'weekly_div', 'weekly_loy', 'weekly_reg', 'hourly_div', 'hourly_loy',\n",
    "       'hourly_reg', 'spatial-grid_div', 'spatial-grid_loy',\n",
    "       'spatial-grid_reg', 'age', 'eduCollege', 'eduHigh School',\n",
    "       'eduMaster', 'eduMiddle School', 'eduPHD', 'eduPrimary School',\n",
    "       'eduUnknown', 'Female', 'Male', 'maritDivorced', 'maritMarried',\n",
    "       'maritSingle', 'maritUnknown', 'workHousewife', 'workNon-Employed',\n",
    "       'workOther Income', 'workPrivate Sector Employee', 'workPublic Servant',\n",
    "       'workRetiree & Non-Employed', 'workRetiree & Private Sector Employee',\n",
    "       'workRetiree & Public Servant', 'workRetiree & Self -Employed',\n",
    "       'workSelf-Employed - Manufacture', 'workSelf-Employed - Retail',\n",
    "       'workSelf-Employed - Service', 'workStudent', 'workUnknown', 'OS1Class']]\n",
    "\n",
    "\n",
    "\n",
    "# Rearrange column order and remove baseline dummy variables (to avoid dummy variable trap)\n",
    "# Baseline: Female, Divorced, College Edu, Housewife \n",
    "\"\"\"\n",
    "\n",
    "overspending = overspending[['spatial-radial_div', 'spatial-radial_loy', 'spatial-radial_reg',\n",
    "       'weekly_div', 'weekly_loy', 'weekly_reg', 'hourly_div', 'hourly_loy',\n",
    "       'hourly_reg', 'spatial-grid_div', 'spatial-grid_loy',\n",
    "       'spatial-grid_reg', 'age', 'eduHigh School',\n",
    "       'eduMaster', 'eduMiddle School', 'eduPHD', 'eduPrimary School',\n",
    "       'eduUnknown', 'Male', 'maritMarried',\n",
    "       'maritSingle', 'maritUnknown', 'workNon-Employed',\n",
    "       'workOther Income', 'workPrivate Sector Employee', 'workPublic Servant',\n",
    "       'workRetiree & Non-Employed', 'workRetiree & Private Sector Employee',\n",
    "       'workRetiree & Public Servant', 'workRetiree & Self -Employed',\n",
    "       'workSelf-Employed - Manufacture', 'workSelf-Employed - Retail',\n",
    "       'workSelf-Employed - Service', 'workStudent', 'workUnknown', 'OS1Class']]\n",
    "\"\"\"\n",
    "\n",
    "overspending = overspending[['hourly_div', 'hourly_loy',\n",
    "       'hourly_reg', 'age', 'eduHigh School',\n",
    "       'eduMaster', 'eduMiddle School', 'eduPHD', 'eduPrimary School',\n",
    "       'eduUnknown', 'Male', 'maritMarried',\n",
    "       'maritSingle', 'maritUnknown', 'workNon-Employed',\n",
    "       'workOther Income', 'workPrivate Sector Employee', 'workPublic Servant',\n",
    "       'workRetiree & Non-Employed', 'workRetiree & Private Sector Employee',\n",
    "       'workRetiree & Public Servant', 'workRetiree & Self -Employed',\n",
    "       'workSelf-Employed - Manufacture', 'workSelf-Employed - Retail',\n",
    "       'workSelf-Employed - Service', 'workStudent', 'workUnknown', 'OS1Class']]"
   ]
  },
  {
   "cell_type": "code",
   "execution_count": 8,
   "metadata": {
    "collapsed": true
   },
   "outputs": [],
   "source": [
    "overspending.insert(0, \"intercept\", 1.0)"
   ]
  },
  {
   "cell_type": "code",
   "execution_count": 9,
   "metadata": {},
   "outputs": [
    {
     "data": {
      "text/plain": [
       "29"
      ]
     },
     "execution_count": 9,
     "metadata": {},
     "output_type": "execute_result"
    }
   ],
   "source": [
    "len(overspending.columns)"
   ]
  },
  {
   "cell_type": "code",
   "execution_count": 10,
   "metadata": {},
   "outputs": [
    {
     "data": {
      "text/plain": [
       "<matplotlib.axes._subplots.AxesSubplot at 0x7f1087cd5fd0>"
      ]
     },
     "execution_count": 10,
     "metadata": {},
     "output_type": "execute_result"
    },
    {
     "data": {
      "image/png": "[encoded data removed]",
      "text/plain": [
       "<matplotlib.figure.Figure at 0x7f1087c99710>"
      ]
     },
     "metadata": {},
     "output_type": "display_data"
    }
   ],
   "source": [
    "fig, ax = plt.subplots(ncols=1, nrows=1, figsize=(12,12))\n",
    "sns.heatmap(overspending.corr())"
   ]
  },
  {
   "cell_type": "code",
   "execution_count": 11,
   "metadata": {},
   "outputs": [
    {
     "data": {
      "text/plain": [
       "29"
      ]
     },
     "execution_count": 11,
     "metadata": {},
     "output_type": "execute_result"
    }
   ],
   "source": [
    "len(overspending.columns)"
   ]
  },
  {
   "cell_type": "code",
   "execution_count": 13,
   "metadata": {
    "collapsed": true
   },
   "outputs": [],
   "source": [
    "array = overspending.values\n",
    "X = array[:,0:28] # Features\n",
    "y = array[:,28]   # Response\n",
    "\n",
    "# Test training split\n",
    "X_train, X_test, y_train, y_test = train_test_split(\n",
    "    X, y, test_size=0.3, random_state=42)\n"
   ]
  },
  {
   "cell_type": "code",
   "execution_count": 14,
   "metadata": {},
   "outputs": [
    {
     "data": {
      "text/plain": [
       "(5498, 28)"
      ]
     },
     "execution_count": 14,
     "metadata": {},
     "output_type": "execute_result"
    }
   ],
   "source": [
    "X_train.shape"
   ]
  },
  {
   "cell_type": "markdown",
   "metadata": {},
   "source": [
    "## Logisitic Regression"
   ]
  },
  {
   "cell_type": "markdown",
   "metadata": {},
   "source": [
    "### Stats model approach\n",
    "\n",
    "For breviety I will focus on reproducing the results for overspening. "
   ]
  },
  {
   "cell_type": "code",
   "execution_count": 35,
   "metadata": {
    "scrolled": true
   },
   "outputs": [
    {
     "data": {
      "text/plain": [
       "36"
      ]
     },
     "execution_count": 35,
     "metadata": {},
     "output_type": "execute_result"
    }
   ],
   "source": [
    "X_train.shape\n",
    "len(['spatial-radial_div', 'spatial-radial_loy', 'spatial-radial_reg',\n",
    "       'weekly_div', 'weekly_loy', 'weekly_reg', 'hourly_div', 'hourly_loy',\n",
    "       'hourly_reg', 'spatial-grid_div', 'spatial-grid_loy',\n",
    "       'spatial-grid_reg', 'age', 'eduHigh School',\n",
    "       'eduMaster', 'eduMiddle School', 'eduPHD', 'eduPrimary School',\n",
    "       'eduUnknown', 'Male', 'maritMarried',\n",
    "       'maritSingle', 'maritUnknown', 'workNon-Employed',\n",
    "       'workOther Income', 'workPrivate Sector Employee', 'workPublic Servant',\n",
    "       'workRetiree & Non-Employed', 'workRetiree & Private Sector Employee',\n",
    "       'workRetiree & Public Servant', 'workRetiree & Self -Employed',\n",
    "       'workSelf-Employed - Manufacture', 'workSelf-Employed - Retail',\n",
    "       'workSelf-Employed - Service', 'workStudent', 'workUnknown'])"
   ]
  },
  {
   "cell_type": "markdown",
   "metadata": {},
   "source": [
    "\n",
    "Summary stats regarding the coefficients: "
   ]
  },
  {
   "cell_type": "code",
   "execution_count": 20,
   "metadata": {
    "scrolled": false
   },
   "outputs": [
    {
     "data": {
      "text/html": [
       "<table class=\"simpletable\">\n",
       "<caption>Generalized Linear Model Regression Results</caption>\n",
       "<tr>\n",
       "  <th>Dep. Variable:</th>          <td>y</td>        <th>  No. Observations:  </th>  <td>  5498</td> \n",
       "</tr>\n",
       "<tr>\n",
       "  <th>Model:</th>                 <td>GLM</td>       <th>  Df Residuals:      </th>  <td>  5470</td> \n",
       "</tr>\n",
       "<tr>\n",
       "  <th>Model Family:</th>       <td>Binomial</td>     <th>  Df Model:          </th>  <td>    27</td> \n",
       "</tr>\n",
       "<tr>\n",
       "  <th>Link Function:</th>        <td>logit</td>      <th>  Scale:             </th>    <td>1.0</td>  \n",
       "</tr>\n",
       "<tr>\n",
       "  <th>Method:</th>               <td>IRLS</td>       <th>  Log-Likelihood:    </th> <td> -3375.4</td>\n",
       "</tr>\n",
       "<tr>\n",
       "  <th>Date:</th>           <td>Fri, 17 Nov 2017</td> <th>  Deviance:          </th> <td>  6750.8</td>\n",
       "</tr>\n",
       "<tr>\n",
       "  <th>Time:</th>               <td>12:25:46</td>     <th>  Pearson chi2:      </th> <td>5.60e+03</td>\n",
       "</tr>\n",
       "<tr>\n",
       "  <th>No. Iterations:</th>        <td>21</td>        <th>                     </th>     <td> </td>   \n",
       "</tr>\n",
       "</table>\n",
       "<table class=\"simpletable\">\n",
       "<tr>\n",
       "                    <td></td>                       <th>coef</th>     <th>std err</th>      <th>z</th>      <th>P>|z|</th>  <th>[0.025</th>    <th>0.975]</th>  \n",
       "</tr>\n",
       "<tr>\n",
       "  <th>constant</th>                              <td>   15.4275</td> <td>    1.201</td> <td>   12.851</td> <td> 0.000</td> <td>   13.075</td> <td>   17.781</td>\n",
       "</tr>\n",
       "<tr>\n",
       "  <th>hourly_div</th>                            <td>  -14.2946</td> <td>    0.974</td> <td>  -14.671</td> <td> 0.000</td> <td>  -16.204</td> <td>  -12.385</td>\n",
       "</tr>\n",
       "<tr>\n",
       "  <th>hourly_loy</th>                            <td>   -8.2194</td> <td>    0.365</td> <td>  -22.546</td> <td> 0.000</td> <td>   -8.934</td> <td>   -7.505</td>\n",
       "</tr>\n",
       "<tr>\n",
       "  <th>hourly_reg</th>                            <td>    1.5916</td> <td>    0.272</td> <td>    5.843</td> <td> 0.000</td> <td>    1.058</td> <td>    2.125</td>\n",
       "</tr>\n",
       "<tr>\n",
       "  <th>age</th>                                   <td>   -0.0043</td> <td>    0.004</td> <td>   -1.148</td> <td> 0.251</td> <td>   -0.012</td> <td>    0.003</td>\n",
       "</tr>\n",
       "<tr>\n",
       "  <th>eduHigh School</th>                        <td>    0.1604</td> <td>    0.070</td> <td>    2.291</td> <td> 0.022</td> <td>    0.023</td> <td>    0.298</td>\n",
       "</tr>\n",
       "<tr>\n",
       "  <th>eduMaster</th>                             <td>   -0.0319</td> <td>    0.167</td> <td>   -0.191</td> <td> 0.848</td> <td>   -0.359</td> <td>    0.295</td>\n",
       "</tr>\n",
       "<tr>\n",
       "  <th>eduMiddle School</th>                      <td>    0.3190</td> <td>    0.112</td> <td>    2.841</td> <td> 0.004</td> <td>    0.099</td> <td>    0.539</td>\n",
       "</tr>\n",
       "<tr>\n",
       "  <th>eduPHD</th>                                <td>    0.4411</td> <td>    0.536</td> <td>    0.823</td> <td> 0.411</td> <td>   -0.610</td> <td>    1.492</td>\n",
       "</tr>\n",
       "<tr>\n",
       "  <th>eduPrimary School</th>                     <td>    0.5237</td> <td>    0.105</td> <td>    4.971</td> <td> 0.000</td> <td>    0.317</td> <td>    0.730</td>\n",
       "</tr>\n",
       "<tr>\n",
       "  <th>eduUnknown</th>                            <td>    0.3965</td> <td>    1.451</td> <td>    0.273</td> <td> 0.785</td> <td>   -2.448</td> <td>    3.241</td>\n",
       "</tr>\n",
       "<tr>\n",
       "  <th>Male</th>                                  <td>    0.1833</td> <td>    0.069</td> <td>    2.669</td> <td> 0.008</td> <td>    0.049</td> <td>    0.318</td>\n",
       "</tr>\n",
       "<tr>\n",
       "  <th>maritMarried</th>                          <td>    0.0365</td> <td>    0.138</td> <td>    0.264</td> <td> 0.792</td> <td>   -0.234</td> <td>    0.307</td>\n",
       "</tr>\n",
       "<tr>\n",
       "  <th>maritSingle</th>                           <td>    0.0266</td> <td>    0.150</td> <td>    0.177</td> <td> 0.859</td> <td>   -0.268</td> <td>    0.321</td>\n",
       "</tr>\n",
       "<tr>\n",
       "  <th>maritUnknown</th>                          <td>   23.4977</td> <td> 4.82e+04</td> <td>    0.000</td> <td> 1.000</td> <td>-9.44e+04</td> <td> 9.45e+04</td>\n",
       "</tr>\n",
       "<tr>\n",
       "  <th>workNon-Employed</th>                      <td>    0.1796</td> <td>    0.537</td> <td>    0.334</td> <td> 0.738</td> <td>   -0.873</td> <td>    1.232</td>\n",
       "</tr>\n",
       "<tr>\n",
       "  <th>workOther Income</th>                      <td>    0.2636</td> <td>    0.591</td> <td>    0.446</td> <td> 0.655</td> <td>   -0.894</td> <td>    1.421</td>\n",
       "</tr>\n",
       "<tr>\n",
       "  <th>workPrivate Sector Employee</th>           <td>    0.1489</td> <td>    0.455</td> <td>    0.327</td> <td> 0.743</td> <td>   -0.743</td> <td>    1.040</td>\n",
       "</tr>\n",
       "<tr>\n",
       "  <th>workPublic Servant</th>                    <td>    0.1179</td> <td>    0.459</td> <td>    0.257</td> <td> 0.798</td> <td>   -0.783</td> <td>    1.018</td>\n",
       "</tr>\n",
       "<tr>\n",
       "  <th>workRetiree & Non-Employed</th>            <td>    0.8883</td> <td>    0.477</td> <td>    1.860</td> <td> 0.063</td> <td>   -0.048</td> <td>    1.824</td>\n",
       "</tr>\n",
       "<tr>\n",
       "  <th>workRetiree & Private Sector Employee</th> <td>   -0.2948</td> <td>    0.613</td> <td>   -0.481</td> <td> 0.630</td> <td>   -1.496</td> <td>    0.906</td>\n",
       "</tr>\n",
       "<tr>\n",
       "  <th>workRetiree & Public Servant</th>          <td>   -1.5573</td> <td>    1.287</td> <td>   -1.210</td> <td> 0.226</td> <td>   -4.079</td> <td>    0.965</td>\n",
       "</tr>\n",
       "<tr>\n",
       "  <th>workRetiree & Self -Employed</th>          <td>    0.5538</td> <td>    1.019</td> <td>    0.543</td> <td> 0.587</td> <td>   -1.444</td> <td>    2.551</td>\n",
       "</tr>\n",
       "<tr>\n",
       "  <th>workSelf-Employed - Manufacture</th>       <td>    0.3208</td> <td>    0.527</td> <td>    0.608</td> <td> 0.543</td> <td>   -0.713</td> <td>    1.355</td>\n",
       "</tr>\n",
       "<tr>\n",
       "  <th>workSelf-Employed - Retail</th>            <td>    0.2562</td> <td>    0.516</td> <td>    0.497</td> <td> 0.619</td> <td>   -0.754</td> <td>    1.267</td>\n",
       "</tr>\n",
       "<tr>\n",
       "  <th>workSelf-Employed - Service</th>           <td>    0.0061</td> <td>    0.483</td> <td>    0.013</td> <td> 0.990</td> <td>   -0.942</td> <td>    0.954</td>\n",
       "</tr>\n",
       "<tr>\n",
       "  <th>workStudent</th>                           <td>  -22.1814</td> <td>  1.4e+04</td> <td>   -0.002</td> <td> 0.999</td> <td>-2.74e+04</td> <td> 2.73e+04</td>\n",
       "</tr>\n",
       "<tr>\n",
       "  <th>workUnknown</th>                           <td>   -0.0344</td> <td>    0.640</td> <td>   -0.054</td> <td> 0.957</td> <td>   -1.289</td> <td>    1.220</td>\n",
       "</tr>\n",
       "</table>"
      ],
      "text/plain": [
       "<class 'statsmodels.iolib.summary.Summary'>\n",
       "\"\"\"\n",
       "                 Generalized Linear Model Regression Results                  \n",
       "==============================================================================\n",
       "Dep. Variable:                      y   No. Observations:                 5498\n",
       "Model:                            GLM   Df Residuals:                     5470\n",
       "Model Family:                Binomial   Df Model:                           27\n",
       "Link Function:                  logit   Scale:                             1.0\n",
       "Method:                          IRLS   Log-Likelihood:                -3375.4\n",
       "Date:                Fri, 17 Nov 2017   Deviance:                       6750.8\n",
       "Time:                        12:25:46   Pearson chi2:                 5.60e+03\n",
       "No. Iterations:                    21                                         \n",
       "=========================================================================================================\n",
       "                                            coef    std err          z      P>|z|      [0.025      0.975]\n",
       "---------------------------------------------------------------------------------------------------------\n",
       "constant                                 15.4275      1.201     12.851      0.000      13.075      17.781\n",
       "hourly_div                              -14.2946      0.974    -14.671      0.000     -16.204     -12.385\n",
       "hourly_loy                               -8.2194      0.365    -22.546      0.000      -8.934      -7.505\n",
       "hourly_reg                                1.5916      0.272      5.843      0.000       1.058       2.125\n",
       "age                                      -0.0043      0.004     -1.148      0.251      -0.012       0.003\n",
       "eduHigh School                            0.1604      0.070      2.291      0.022       0.023       0.298\n",
       "eduMaster                                -0.0319      0.167     -0.191      0.848      -0.359       0.295\n",
       "eduMiddle School                          0.3190      0.112      2.841      0.004       0.099       0.539\n",
       "eduPHD                                    0.4411      0.536      0.823      0.411      -0.610       1.492\n",
       "eduPrimary School                         0.5237      0.105      4.971      0.000       0.317       0.730\n",
       "eduUnknown                                0.3965      1.451      0.273      0.785      -2.448       3.241\n",
       "Male                                      0.1833      0.069      2.669      0.008       0.049       0.318\n",
       "maritMarried                              0.0365      0.138      0.264      0.792      -0.234       0.307\n",
       "maritSingle                               0.0266      0.150      0.177      0.859      -0.268       0.321\n",
       "maritUnknown                             23.4977   4.82e+04      0.000      1.000   -9.44e+04    9.45e+04\n",
       "workNon-Employed                          0.1796      0.537      0.334      0.738      -0.873       1.232\n",
       "workOther Income                          0.2636      0.591      0.446      0.655      -0.894       1.421\n",
       "workPrivate Sector Employee               0.1489      0.455      0.327      0.743      -0.743       1.040\n",
       "workPublic Servant                        0.1179      0.459      0.257      0.798      -0.783       1.018\n",
       "workRetiree & Non-Employed                0.8883      0.477      1.860      0.063      -0.048       1.824\n",
       "workRetiree & Private Sector Employee    -0.2948      0.613     -0.481      0.630      -1.496       0.906\n",
       "workRetiree & Public Servant             -1.5573      1.287     -1.210      0.226      -4.079       0.965\n",
       "workRetiree & Self -Employed              0.5538      1.019      0.543      0.587      -1.444       2.551\n",
       "workSelf-Employed - Manufacture           0.3208      0.527      0.608      0.543      -0.713       1.355\n",
       "workSelf-Employed - Retail                0.2562      0.516      0.497      0.619      -0.754       1.267\n",
       "workSelf-Employed - Service               0.0061      0.483      0.013      0.990      -0.942       0.954\n",
       "workStudent                             -22.1814    1.4e+04     -0.002      0.999   -2.74e+04    2.73e+04\n",
       "workUnknown                              -0.0344      0.640     -0.054      0.957      -1.289       1.220\n",
       "=========================================================================================================\n",
       "\"\"\""
      ]
     },
     "execution_count": 20,
     "metadata": {},
     "output_type": "execute_result"
    }
   ],
   "source": [
    "res = sm.GLM(y_train, X_train, family=sm.families.Binomial()).fit() \n",
    "\n",
    "\n",
    "\"\"\"\n",
    "res.summary(xname=['spatial-radial_div', 'spatial-radial_loy', 'spatial-radial_reg',\n",
    "       'weekly_div', 'weekly_loy', 'weekly_reg', 'hourly_div', 'hourly_loy',\n",
    "       'hourly_reg', 'spatial-grid_div', 'spatial-grid_loy',\n",
    "       'spatial-grid_reg', 'age', 'eduHigh School',\n",
    "       'eduMaster', 'eduMiddle School', 'eduPHD', 'eduPrimary School',\n",
    "       'eduUnknown', 'Male', 'maritMarried',\n",
    "       'maritSingle', 'maritUnknown', 'workNon-Employed',\n",
    "       'workOther Income', 'workPrivate Sector Employee', 'workPublic Servant',\n",
    "       'workRetiree & Non-Employed', 'workRetiree & Private Sector Employee',\n",
    "       'workRetiree & Public Servant', 'workRetiree & Self -Employed',\n",
    "       'workSelf-Employed - Manufacture', 'workSelf-Employed - Retail',\n",
    "       'workSelf-Employed - Service', 'workStudent', 'workUnknown'])\n",
    "\"\"\"\n",
    "\n",
    "res.summary(xname=[\"constant\",'hourly_div', 'hourly_loy',\n",
    "       'hourly_reg', 'age', 'eduHigh School',\n",
    "       'eduMaster', 'eduMiddle School', 'eduPHD', 'eduPrimary School',\n",
    "       'eduUnknown', 'Male', 'maritMarried',\n",
    "       'maritSingle', 'maritUnknown', 'workNon-Employed',\n",
    "       'workOther Income', 'workPrivate Sector Employee', 'workPublic Servant',\n",
    "       'workRetiree & Non-Employed', 'workRetiree & Private Sector Employee',\n",
    "       'workRetiree & Public Servant', 'workRetiree & Self -Employed',\n",
    "       'workSelf-Employed - Manufacture', 'workSelf-Employed - Retail',\n",
    "       'workSelf-Employed - Service', 'workStudent', 'workUnknown'])"
   ]
  },
  {
   "cell_type": "markdown",
   "metadata": {},
   "source": [
    "![](./OddsRatio.PNG)\n",
    "\n",
    "Above are the odds published in **Money Walks: Implicit Mobility Behavior and Financial Well-Being**. Below are the odds predicted by the model I replicated (just checking a couple odds to ensure that our models arrive at similiar results."
   ]
  },
  {
   "cell_type": "code",
   "execution_count": 30,
   "metadata": {},
   "outputs": [
    {
     "name": "stdout",
     "output_type": "stream",
     "text": [
      "Odds for age coefficient: 0.995709231763\n"
     ]
    }
   ],
   "source": [
    "print(\"Odds for age coefficient: \", np.exp(-0.0043))"
   ]
  },
  {
   "cell_type": "code",
   "execution_count": 34,
   "metadata": {},
   "outputs": [
    {
     "name": "stdout",
     "output_type": "stream",
     "text": [
      "Odds for hourly_loyalty:  0.000269376642413\n"
     ]
    }
   ],
   "source": [
    "print(\"Odds for hourly_loyalty: \", np.exp(-8.2194))"
   ]
  },
  {
   "cell_type": "markdown",
   "metadata": {},
   "source": [
    "Looks like the coefficients for our GLM's are similiar. "
   ]
  },
  {
   "cell_type": "markdown",
   "metadata": {},
   "source": [
    "## Bagged Random Forest\n",
    "\n",
    "\n",
    "100 Trees \n",
    "\n",
    "10-Fold Cross Validated \n"
   ]
  },
  {
   "cell_type": "code",
   "execution_count": 15,
   "metadata": {},
   "outputs": [
    {
     "name": "stdout",
     "output_type": "stream",
     "text": [
      "0.641679085941\n"
     ]
    }
   ],
   "source": [
    "seed = 7\n",
    "kfold = model_selection.KFold(n_splits=10, random_state=seed)\n",
    "cart = DecisionTreeClassifier()\n",
    "num_trees = 100\n",
    "model = BaggingClassifier(base_estimator=cart, n_estimators=num_trees, random_state=seed)\n",
    "\n",
    "# mean estimate of classification accuracy\n",
    "results = model_selection.cross_val_score(model, X_train, y_train, cv=kfold)\n",
    "print(results.mean())"
   ]
  },
  {
   "cell_type": "code",
   "execution_count": 16,
   "metadata": {},
   "outputs": [
    {
     "data": {
      "text/plain": [
       "<matplotlib.legend.Legend at 0x7f1080616f98>"
      ]
     },
     "execution_count": 16,
     "metadata": {},
     "output_type": "execute_result"
    },
    {
     "data": {
      "image/png": "[encoded data removed]",
      "text/plain": [
       "<matplotlib.figure.Figure at 0x7f1087c82048>"
      ]
     },
     "metadata": {},
     "output_type": "display_data"
    }
   ],
   "source": [
    "fitted = model.fit(X_train, y_train)\n",
    "proba = fitted.predict_proba(X_test)\n",
    "\n",
    "# Compute fpr, tpr, thresholds and roc auc\n",
    "fpr, tpr, thresholds = roc_curve(y_test, proba[:,1])\n",
    "roc_auc = auc(fpr, tpr)\n",
    "\n",
    "# Plot ROC curve\n",
    "plt.plot(fpr, tpr, label='ROC curve (area = %0.3f)' % roc_auc)\n",
    "plt.plot([0, 1], [0, 1], 'k--')  # random predictions curve\n",
    "plt.xlim([0.0, 1.0])\n",
    "plt.ylim([0.0, 1.0])\n",
    "plt.xlabel('False Positive Rate or (1 - Specifity)')\n",
    "plt.ylabel('True Positive Rate or (Sensitivity)')\n",
    "plt.title('Receiver Operating Characteristic')\n",
    "plt.legend(loc=\"lower right\")"
   ]
  },
  {
   "cell_type": "markdown",
   "metadata": {},
   "source": [
    "With an unbalanced dataset like this we must interpret the ROC with some special considerations. "
   ]
  }
 ],
 "metadata": {
  "anaconda-cloud": {},
  "kernelspec": {
   "display_name": "Python [conda root]",
   "language": "python",
   "name": "conda-root-py"
  },
  "language_info": {
   "codemirror_mode": {
    "name": "ipython",
    "version": 3
   },
   "file_extension": ".py",
   "mimetype": "text/x-python",
   "name": "python",
   "nbconvert_exporter": "python",
   "pygments_lexer": "ipython3",
   "version": "3.5.2"
  }
 },
 "nbformat": 4,
 "nbformat_minor": 2
}
